{
 "cells": [
  {
   "cell_type": "markdown",
   "id": "984678ce-23e0-4609-b8b1-1e2b959dbcf5",
   "metadata": {},
   "source": [
    "# Systems Security Lab 1: Setting Up\n",
    "\n",
    "In this lab we will set up the Chipwhisperer Nano and do some exercises to get familiar with the environment and start thinking about topics of the course."
   ]
  },
  {
   "cell_type": "markdown",
   "id": "01eb045b-c9db-471e-95c6-8150ab075365",
   "metadata": {},
   "source": [
    "# Background\n",
    "## Chipwhisperer Nano\n",
    "\n",
    "For the labs we will be using the Chipwhisperer Nano (see a full description [here](https://chipwhisperer.readthedocs.io/en/latest/Starter%20Kits/ChipWhisperer-Nano.html)). The Nano is a small embedded device which supports power analysis, a highly relevant security topic which will be covered later in the course. The target chip is a STM32F303F4P6, which has 16kB of FLASH and 4kB of SRAM."
   ]
  },
  {
   "cell_type": "markdown",
   "id": "0c17c450-0c28-4764-a744-d37be74eafa6",
   "metadata": {},
   "source": [
    "# Setting up the hardware"
   ]
  },
  {
   "cell_type": "code",
   "execution_count": null,
   "id": "2e7fead7-0a86-47ab-8814-d8f7a8e3c71b",
   "metadata": {},
   "outputs": [],
   "source": [
    "import chipwhisperer as cw\n",
    "import matplotlib.pyplot as plt\n",
    "import numpy as np\n",
    "import utils\n",
    "import tqdm.notebook as tqdm"
   ]
  },
  {
   "cell_type": "code",
   "execution_count": null,
   "id": "8a1cbf02-b55b-4f00-99f8-a993203f50ab",
   "metadata": {},
   "outputs": [],
   "source": [
    "SCOPETYPE = 'CWNANO'\n",
    "PLATFORM = 'CWNANO'\n",
    "SS_VER=\"SS_VER_2_1\""
   ]
  },
  {
   "cell_type": "code",
   "execution_count": null,
   "id": "aca6f618-0589-4316-85cc-3e64958d5e3b",
   "metadata": {
    "scrolled": true
   },
   "outputs": [],
   "source": [
    "scope = cw.scope()\n",
    "target = cw.target(scope, cw.targets.SimpleSerial2)\n",
    "prog = cw.programmers.STM32FProgrammer"
   ]
  },
  {
   "cell_type": "code",
   "execution_count": null,
   "id": "d094e5aa-9fa1-4e2a-9bc4-aba77f4bb0c8",
   "metadata": {},
   "outputs": [],
   "source": [
    "scope.default_setup()"
   ]
  },
  {
   "cell_type": "markdown",
   "id": "44ee32e1-b510-4b33-b825-b28e9afda716",
   "metadata": {},
   "source": [
    "# Checking that everything works using a simple program"
   ]
  },
  {
   "cell_type": "code",
   "execution_count": null,
   "id": "3bf3ad63-5eac-4a89-878b-d68f385ec97e",
   "metadata": {
    "scrolled": true
   },
   "outputs": [],
   "source": [
    "%%bash -s \"$PLATFORM\" \"$SS_VER\"\n",
    "cd ../hw/simpleserial-base/\n",
    "make PLATFORM=$1 CRYPTO_TARGET=NONE SS_VER=$2 -j"
   ]
  },
  {
   "cell_type": "code",
   "execution_count": null,
   "id": "f08a4cf1-dc58-48de-ac5e-96a84deeb9c3",
   "metadata": {},
   "outputs": [],
   "source": [
    "cw.program_target(scope, prog, f\"../hw/simpleserial-base/simpleserial-base-{PLATFORM}.hex\")"
   ]
  },
  {
   "cell_type": "code",
   "execution_count": null,
   "id": "36b0d15d-cbdc-4f3c-a718-32748899366c",
   "metadata": {},
   "outputs": [],
   "source": [
    "msg = bytearray([0]*16) #simpleserial uses bytearrays\n",
    "target.simpleserial_write('p', msg)\n",
    "print(target.simpleserial_read('r', 16))"
   ]
  },
  {
   "cell_type": "markdown",
   "id": "9e51dc90-c2a7-4c79-98c1-8bed0145ed35",
   "metadata": {},
   "source": [
    "Above should give ```CWbytearray(b'00 00 00 00 00 00 00 00 00 00 00 00 00 00 00 00')```"
   ]
  },
  {
   "cell_type": "code",
   "execution_count": null,
   "id": "6b0dd103-96a2-4778-8728-b5d732968a62",
   "metadata": {},
   "outputs": [],
   "source": [
    "target.simpleserial_write('k', msg)\n",
    "print(target.simpleserial_wait_ack())"
   ]
  },
  {
   "cell_type": "markdown",
   "id": "5022d296-ddc7-4066-89b0-1bd956522e2b",
   "metadata": {},
   "source": [
    "Above should give ```bytearray(b'\\x00')```"
   ]
  },
  {
   "cell_type": "code",
   "execution_count": null,
   "id": "d832d6aa-5ca2-4bf3-b2f7-beb2cfc5da26",
   "metadata": {},
   "outputs": [],
   "source": [
    "scope.arm()\n",
    "target.simpleserial_write('p', msg)\n",
    "## fill in the rest...\n",
    "scope.capture()\n",
    "trace = scope.get_last_trace()\n",
    "plt.plot(trace)"
   ]
  },
  {
   "cell_type": "markdown",
   "id": "2e542925-c3c9-4530-827b-6397f557a85a",
   "metadata": {},
   "source": [
    "Above should give you a plot containing a power trace of 5000 points"
   ]
  },
  {
   "cell_type": "markdown",
   "id": "fa3a1716-070f-48db-a011-073bc7b8e40f",
   "metadata": {},
   "source": [
    "# Setting Up The Use-Case\n",
    "The running example for this course will be a use-case which relies on sensors which need to be secure to some extent. To mimic this situation, we simulate weather data from the Chipwhisperer Nano. In this original implementation there has been some 'encryption' added to the sensor to secure it, but it is a very bad implementation: it is simply an XOR of the data with a static mask."
   ]
  },
  {
   "cell_type": "code",
   "execution_count": null,
   "id": "ac6f1e7e-dc32-4ea4-9e36-ebdd16edb64b",
   "metadata": {
    "scrolled": true
   },
   "outputs": [],
   "source": [
    "%%bash -s \"$PLATFORM\"\n",
    "cd ../hw/secure-sensor-v1\n",
    "make PLATFORM=$1 CRYPTO_TARGET=NONE -j"
   ]
  },
  {
   "cell_type": "code",
   "execution_count": null,
   "id": "5057ef36-1f97-4e9a-bd42-cb70a7b91171",
   "metadata": {},
   "outputs": [],
   "source": [
    "cw.program_target(scope, prog, f\"../hw/secure-sensor-v1/secure-sensor-{PLATFORM}.hex\")"
   ]
  },
  {
   "cell_type": "markdown",
   "id": "047f9ce9-4132-415f-bc4a-6f4f5cc1b31f",
   "metadata": {},
   "source": [
    "## The sensor interface + useful commands\n",
    "\n",
    "This section shows some useful commands and how you can interact with the sensor."
   ]
  },
  {
   "cell_type": "code",
   "execution_count": null,
   "id": "09e4fc7b-0e8b-4b87-a9a7-6b95c2e4687e",
   "metadata": {},
   "outputs": [],
   "source": [
    "# This command resets the target. \n",
    "# This can be useful if it crashes somehow, and it also resets the PRNG so you can use it to have consistently repeatable data\n",
    "utils.reset_target(scope)"
   ]
  },
  {
   "cell_type": "code",
   "execution_count": null,
   "id": "38d4b075-14fb-419e-a0ef-f914af6867f9",
   "metadata": {},
   "outputs": [],
   "source": [
    "# This command serves only as a sanity check: it should mirror the input bytearray\n",
    "target.send_cmd(0xac, 1, bytearray([3, 5, 8, 10, 15, 80]))\n",
    "target.simpleserial_read(cmd='m')"
   ]
  },
  {
   "cell_type": "code",
   "execution_count": null,
   "id": "5e458c08-e320-412f-85e5-e9c42a4838d6",
   "metadata": {},
   "outputs": [],
   "source": [
    "# The main command: polling the sensor for data\n",
    "utils.reset_target(scope)\n",
    "target.send_cmd(0x01, 1, bytearray([]))\n",
    "encrypted_pl = target.simpleserial_read(cmd='s')\n",
    "print(encrypted_pl)\n",
    "# _ = parse_sensor_data(encrypted_pl, print_data=True)"
   ]
  },
  {
   "cell_type": "markdown",
   "id": "7c2a4246-396b-44ca-b9d4-a0e740b6e6f1",
   "metadata": {},
   "source": [
    "The command gives as output an array of 16 bytes. We provide you with some utility commands to parse them in python:"
   ]
  },
  {
   "cell_type": "code",
   "execution_count": null,
   "id": "d56f37c1-8368-4c7d-851a-706cb333848d",
   "metadata": {},
   "outputs": [],
   "source": [
    "# This command will print the sensor values if print_data==True\n",
    "# And returns the parsed values as a tuple (device_id, temperature, humidity, pressure, wind_speed, wind_direction, timestamp)\n",
    "utils.parse_sensor_data(encrypted_pl, print_data=True)"
   ]
  },
  {
   "cell_type": "markdown",
   "id": "cbb923a2-d4f5-4d32-9d21-b4bb4a2a652d",
   "metadata": {},
   "source": [
    "If the values above do not make much sense, that is because they are 'encrypted' and should be 'decrypted' first"
   ]
  },
  {
   "cell_type": "code",
   "execution_count": null,
   "id": "480f9fa4-7056-4b7f-a798-fcce25d58f83",
   "metadata": {},
   "outputs": [],
   "source": [
    "# Lastly, parsing individual fields\n",
    "\n",
    "# This code below captures several polling events\n",
    "utils.reset_target(scope)\n",
    "N = 3\n",
    "masked_data = np.zeros((N, 16), dtype=np.uint8)\n",
    "for i in tqdm.trange(N):\n",
    "    target.send_cmd(0x01, 1, bytearray([]))\n",
    "    masked_data[i] = target.simpleserial_read(cmd='s')\n",
    "\n",
    "print(\"Raw masked data:\")\n",
    "print(masked_data)\n",
    "\n",
    "# This command allows you to parse multiple of these events together and obtain the relevant field, and also parse individual events:\n",
    "print(\"\\nMasked timestamp data:\")\n",
    "print(utils.get_field(\"timestamp\", masked_data, True))\n",
    "\n",
    "print(\"\\nMasked temperature of the first polling event (Fixed-point representation + parsed value):\")\n",
    "print(\"Fixed-Point:\", utils.get_field(\"temperature\", masked_data[0], True))\n",
    "print(\"Parsed:\", utils.get_field(\"temperature\", masked_data[0], False))\n",
    "\n",
    "print(\"\\nNote that this temperature is equal to the one printed above, since the target was reset before the commands were sent\")"
   ]
  },
  {
   "cell_type": "markdown",
   "id": "d78ed598-4a46-4ea5-950c-b2c0860ab890",
   "metadata": {},
   "source": [
    "# Exercise 1: Breaking the current encryption\n",
    "\n",
    "As mentioned, the current encryption is a very simple implementation. A random mask is generated once when the device is (re)started and used to mask every individual byte sent over the wire:\n",
    "\n",
    "```C\n",
    "void encrypt(uint8_t *data, uint8_t data_len) {\n",
    "    for (uint8_t i = 0; i < data_len; i++) {\n",
    "        data[i] ^= mask;\n",
    "    }\n",
    "}\n",
    "```\n",
    "\n",
    "Furthermore, you have the following knowledge: \n",
    "- the data captured by the sensor looks as follows (implementing fixed-point):\n",
    "```C\n",
    "typedef struct {\n",
    "    uint16_t device_id;\n",
    "    int16_t temperature;\n",
    "    uint16_t humidity;\n",
    "    uint16_t pressure;\n",
    "    uint16_t wind_speed;\n",
    "    uint16_t wind_direction;\n",
    "    uint16_t noise;\n",
    "    uint16_t timestamp;\n",
    "} SensorData;\n",
    "```\n",
    "- The timestamp increments with 1 after each command. I.e. if your first sensor poll request has timestamp T, the subsequent one will have timestamp T+1.\n",
    "- The mask is a single byte, shared across all the bytes of the full 16-byte payload.\n",
    "\n",
    "Use the information above to brainstorm how you can figure out the mask used for the encryption, and implement that attack to subsequently decrypt all the data coming from the sensor."
   ]
  },
  {
   "cell_type": "code",
   "execution_count": null,
   "id": "3056bb80-3ac7-4b6c-b219-a460a08f938b",
   "metadata": {},
   "outputs": [],
   "source": []
  },
  {
   "cell_type": "markdown",
   "id": "617c5adb-9be1-4308-a7af-e9fe7abdd687",
   "metadata": {},
   "source": [
    "# Exercise 2: Implementing a new encryption\n",
    "\n",
    "One (of many) weaknesses in the previous encryption scheme is the fact that the mask is shared between all the bytes. This allows an attacker to figure out the mask based on a known pattern (e.g. the timestamp pattern) and decrypt everything. One minor improvement is to utilize a different mask for each byte of the payload. Implement this simple improvement. You can change the `secure-sensor.c` code which is located in `hw/secure-sensor-v2`"
   ]
  },
  {
   "cell_type": "code",
   "execution_count": null,
   "id": "2fa85092-0ce2-42b3-bad4-6ad9989d6dd9",
   "metadata": {
    "scrolled": true
   },
   "outputs": [],
   "source": [
    "%%bash -s \"$PLATFORM\"\n",
    "cd ../hw/secure-sensor-v2\n",
    "make PLATFORM=$1 CRYPTO_TARGET=NONE -j"
   ]
  },
  {
   "cell_type": "code",
   "execution_count": null,
   "id": "1f46c4e6-fbdd-425c-94fe-4dd9541d187b",
   "metadata": {},
   "outputs": [],
   "source": [
    "cw.program_target(scope, prog, f\"../hw/secure-sensor-v2/secure-sensor-{PLATFORM}.hex\")"
   ]
  },
  {
   "cell_type": "code",
   "execution_count": null,
   "id": "1c73fb31-7975-4a5f-9d05-e8d557c0dcb7",
   "metadata": {},
   "outputs": [],
   "source": []
  },
  {
   "cell_type": "markdown",
   "id": "c52509f2-4b3f-4992-9f13-e0fc920bf974",
   "metadata": {},
   "source": [
    "# Exercise 3: Breaking the new encryption\n",
    "\n",
    "With the new improvement, we can not simply undo the whole mask by figuring out one byte. However, there are still patterns that an attacker can utilize to launch an attack. Think about how an attacker may do this (for a field other than the previously-used timestamp) and implement the attack for that field."
   ]
  },
  {
   "cell_type": "code",
   "execution_count": null,
   "id": "3d322d6a-3f19-4e5a-8792-5c3596ec0937",
   "metadata": {},
   "outputs": [],
   "source": []
  },
  {
   "cell_type": "markdown",
   "id": "c30e9eca-6af5-4870-a1a6-ab17c19192cb",
   "metadata": {},
   "source": [
    "# Exercise 4: Brainstorming a new encryption\n",
    "\n",
    "The final exercise is open-ended. So far you have analyzed and attacked two implementations of an encryption scheme, showing that it is very vulnerable. The exercise now is to think at a high-level how you would ideally implement security on this sensor. This concerns how you would implement an improved encryption scheme, but also extends to other properties you think would be desirable in this use-case.\n",
    "\n",
    "Iterate in your group: devise a new method to perform the encryption, then think of attacks that could be possible against such a scheme. Repeatedly go back-and-forth between these steps until you are satisfied."
   ]
  },
  {
   "cell_type": "code",
   "execution_count": null,
   "id": "bf3d8cc5-dfe6-4816-b617-5c6798d98c0a",
   "metadata": {},
   "outputs": [],
   "source": []
  },
  {
   "cell_type": "markdown",
   "id": "d629aba2-11ed-47b3-83b6-e46989845db5",
   "metadata": {},
   "source": [
    "# Run below before exiting: disconnect from the hardware"
   ]
  },
  {
   "cell_type": "code",
   "execution_count": null,
   "id": "9cd2c701-e57e-4f5b-8136-d5d2f8698b3e",
   "metadata": {},
   "outputs": [],
   "source": [
    "scope.dis()\n",
    "target.dis()"
   ]
  }
 ],
 "metadata": {
  "kernelspec": {
   "display_name": "Python 3 (ipykernel)",
   "language": "python",
   "name": "python3"
  },
  "language_info": {
   "codemirror_mode": {
    "name": "ipython",
    "version": 3
   },
   "file_extension": ".py",
   "mimetype": "text/x-python",
   "name": "python",
   "nbconvert_exporter": "python",
   "pygments_lexer": "ipython3",
   "version": "3.13.2"
  }
 },
 "nbformat": 4,
 "nbformat_minor": 5
}
